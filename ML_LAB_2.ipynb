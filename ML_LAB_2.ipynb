{
  "nbformat": 4,
  "nbformat_minor": 0,
  "metadata": {
    "colab": {
      "provenance": []
    },
    "kernelspec": {
      "name": "python3",
      "display_name": "Python 3"
    },
    "language_info": {
      "name": "python"
    }
  },
  "cells": [
    {
      "cell_type": "markdown",
      "source": [
        "In this practical I have used confusion matrix and calculated classification report"
      ],
      "metadata": {
        "id": "ZiRXBmCcpLlT"
      }
    },
    {
      "cell_type": "code",
      "execution_count": 3,
      "metadata": {
        "id": "vE0z4aYsYarx"
      },
      "outputs": [],
      "source": [
        "import pandas as pd\n",
        "import numpy as np\n",
        "import matplotlib.pyplot as plt\n",
        "from sklearn.metrics import confusion_matrix\n",
        "from sklearn.metrics import classification_report"
      ]
    },
    {
      "cell_type": "markdown",
      "source": [
        "Creation of two arrays"
      ],
      "metadata": {
        "id": "5_wIJJSieCYq"
      }
    },
    {
      "cell_type": "code",
      "source": [
        "a = [0,1,0,1,0,1,1,1,0]\n",
        "b = [0,1,0,1,0,1,0,0,0]"
      ],
      "metadata": {
        "id": "MOg4NnwoeIHd"
      },
      "execution_count": 4,
      "outputs": []
    },
    {
      "cell_type": "code",
      "source": [
        "mat = confusion_matrix(a,b)\n",
        "print(\"Confusion Matrix: \")\n",
        "print(mat)"
      ],
      "metadata": {
        "colab": {
          "base_uri": "https://localhost:8080/"
        },
        "id": "6iXv_PNvlPAL",
        "outputId": "f9d41508-47f6-4202-a116-a3d100089a69"
      },
      "execution_count": 8,
      "outputs": [
        {
          "output_type": "stream",
          "name": "stdout",
          "text": [
            "Confusion Matrix: \n",
            "[[4 0]\n",
            " [2 3]]\n"
          ]
        }
      ]
    },
    {
      "cell_type": "code",
      "source": [
        "cl = classification_report(a,b)\n",
        "print(cl)"
      ],
      "metadata": {
        "colab": {
          "base_uri": "https://localhost:8080/"
        },
        "id": "fHRQOf52lhea",
        "outputId": "03f0fb7c-ab16-49d2-de18-44d54226a814"
      },
      "execution_count": 7,
      "outputs": [
        {
          "output_type": "stream",
          "name": "stdout",
          "text": [
            "              precision    recall  f1-score   support\n",
            "\n",
            "           0       0.67      1.00      0.80         4\n",
            "           1       1.00      0.60      0.75         5\n",
            "\n",
            "    accuracy                           0.78         9\n",
            "   macro avg       0.83      0.80      0.77         9\n",
            "weighted avg       0.85      0.78      0.77         9\n",
            "\n"
          ]
        }
      ]
    }
  ]
}